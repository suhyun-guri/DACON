{
 "cells": [
  {
   "cell_type": "markdown",
   "metadata": {},
   "source": [
    "## 집값 예측 경진대회 (2022.01.24 ~ 2022.02.04)\n"
   ]
  },
  {
   "cell_type": "code",
   "execution_count": 54,
   "metadata": {},
   "outputs": [
    {
     "name": "stdout",
     "output_type": "stream",
     "text": [
      "NanumGothic\n"
     ]
    }
   ],
   "source": [
    "import numpy as np\n",
    "import pandas as pd\n",
    "import seaborn as sns\n",
    "import matplotlib.pyplot as plt\n",
    "\n",
    "import warnings\n",
    "warnings.filterwarnings(action='ignore')\n",
    "\n",
    "#한글폰트 설정\n",
    "import matplotlib.font_manager as fm\n",
    "path = 'C:\\\\Users\\\\myksh\\\\AppData\\\\Local\\\\Microsoft\\\\Windows\\\\Fonts\\\\NanumGothic.ttf'\n",
    "# path = 'C:\\\\Users\\\\myksh\\\\AppData\\\\Local\\\\Microsoft\\\\Windows\\\\Fonts\\\\NanumSquare.ttf'\n",
    "font_name = fm.FontProperties(fname=path).get_name()\n",
    "print(font_name)\n",
    "plt.rc('font', family=font_name)\n",
    "\n",
    "plt.rcParams['font.family'] = 'NanumGothic'\n",
    "\n",
    "#마이너스가 깨질 것을 방지\n",
    "plt.rcParams['axes.unicode_minus'] = False"
   ]
  },
  {
   "cell_type": "markdown",
   "metadata": {},
   "source": [
    "#### Columns\n",
    "- id : 데이터 고유 id\n",
    "- OverallQual : 전반적 재료와 마감 품질\n",
    "- YearBuilt : 완공 연도\n",
    "- YearRemod/Add : 리모델링 연도\n",
    "- ExterQual : 외관 재료 품질\n",
    "- BsmtQual : 지하실 높이\n",
    "- TotalBsmtSF : 지하실 면적 \n",
    "- 1stFlrSF : 1층 면적 \n",
    "- GrLivArea : 지상층 생활 면적\n",
    "- FullBath : 지상층 화장실 개수 \n",
    "- KitchenQual : 부억 품질 \n",
    "- GarageYrBlt : 차고 완공 연도\n",
    "- GarageCars: 차고 자리 개수\n",
    "- GarageArea: 차고 면적 \n",
    "- target : 집값(달러 단위)"
   ]
  },
  {
   "cell_type": "markdown",
   "metadata": {},
   "source": [
    "# 1. 데이터 로드"
   ]
  },
  {
   "cell_type": "code",
   "execution_count": 55,
   "metadata": {},
   "outputs": [],
   "source": [
    "train = pd.read_csv('./data/train.csv')\n",
    "test = pd.read_csv('./data/test.csv')"
   ]
  },
  {
   "cell_type": "code",
   "execution_count": 56,
   "metadata": {},
   "outputs": [
    {
     "data": {
      "text/plain": [
       "Index(['id', 'Overall Qual', 'Gr Liv Area', 'Exter Qual', 'Garage Cars',\n",
       "       'Garage Area', 'Kitchen Qual', 'Total Bsmt SF', '1st Flr SF',\n",
       "       'Bsmt Qual', 'Full Bath', 'Year Built', 'Year Remod/Add',\n",
       "       'Garage Yr Blt', 'target'],\n",
       "      dtype='object')"
      ]
     },
     "execution_count": 56,
     "metadata": {},
     "output_type": "execute_result"
    }
   ],
   "source": [
    "train.columns"
   ]
  },
  {
   "cell_type": "code",
   "execution_count": 57,
   "metadata": {},
   "outputs": [
    {
     "data": {
      "text/html": [
       "<div>\n",
       "<style scoped>\n",
       "    .dataframe tbody tr th:only-of-type {\n",
       "        vertical-align: middle;\n",
       "    }\n",
       "\n",
       "    .dataframe tbody tr th {\n",
       "        vertical-align: top;\n",
       "    }\n",
       "\n",
       "    .dataframe thead th {\n",
       "        text-align: right;\n",
       "    }\n",
       "</style>\n",
       "<table border=\"1\" class=\"dataframe\">\n",
       "  <thead>\n",
       "    <tr style=\"text-align: right;\">\n",
       "      <th></th>\n",
       "      <th>id</th>\n",
       "      <th>Overall Qual</th>\n",
       "      <th>Gr Liv Area</th>\n",
       "      <th>Exter Qual</th>\n",
       "      <th>Garage Cars</th>\n",
       "      <th>Garage Area</th>\n",
       "      <th>Kitchen Qual</th>\n",
       "      <th>Total Bsmt SF</th>\n",
       "      <th>1st Flr SF</th>\n",
       "      <th>Bsmt Qual</th>\n",
       "      <th>Full Bath</th>\n",
       "      <th>Year Built</th>\n",
       "      <th>Year Remod/Add</th>\n",
       "      <th>Garage Yr Blt</th>\n",
       "      <th>target</th>\n",
       "    </tr>\n",
       "  </thead>\n",
       "  <tbody>\n",
       "    <tr>\n",
       "      <th>0</th>\n",
       "      <td>1</td>\n",
       "      <td>10</td>\n",
       "      <td>2392</td>\n",
       "      <td>Ex</td>\n",
       "      <td>3</td>\n",
       "      <td>968</td>\n",
       "      <td>Ex</td>\n",
       "      <td>2392</td>\n",
       "      <td>2392</td>\n",
       "      <td>Ex</td>\n",
       "      <td>2</td>\n",
       "      <td>2003</td>\n",
       "      <td>2003</td>\n",
       "      <td>2003</td>\n",
       "      <td>386250</td>\n",
       "    </tr>\n",
       "    <tr>\n",
       "      <th>1</th>\n",
       "      <td>2</td>\n",
       "      <td>7</td>\n",
       "      <td>1352</td>\n",
       "      <td>Gd</td>\n",
       "      <td>2</td>\n",
       "      <td>466</td>\n",
       "      <td>Gd</td>\n",
       "      <td>1352</td>\n",
       "      <td>1352</td>\n",
       "      <td>Ex</td>\n",
       "      <td>2</td>\n",
       "      <td>2006</td>\n",
       "      <td>2007</td>\n",
       "      <td>2006</td>\n",
       "      <td>194000</td>\n",
       "    </tr>\n",
       "    <tr>\n",
       "      <th>2</th>\n",
       "      <td>3</td>\n",
       "      <td>5</td>\n",
       "      <td>900</td>\n",
       "      <td>TA</td>\n",
       "      <td>1</td>\n",
       "      <td>288</td>\n",
       "      <td>TA</td>\n",
       "      <td>864</td>\n",
       "      <td>900</td>\n",
       "      <td>TA</td>\n",
       "      <td>1</td>\n",
       "      <td>1967</td>\n",
       "      <td>1967</td>\n",
       "      <td>1967</td>\n",
       "      <td>123000</td>\n",
       "    </tr>\n",
       "    <tr>\n",
       "      <th>3</th>\n",
       "      <td>4</td>\n",
       "      <td>5</td>\n",
       "      <td>1174</td>\n",
       "      <td>TA</td>\n",
       "      <td>2</td>\n",
       "      <td>576</td>\n",
       "      <td>Gd</td>\n",
       "      <td>680</td>\n",
       "      <td>680</td>\n",
       "      <td>TA</td>\n",
       "      <td>1</td>\n",
       "      <td>1900</td>\n",
       "      <td>2006</td>\n",
       "      <td>2000</td>\n",
       "      <td>135000</td>\n",
       "    </tr>\n",
       "    <tr>\n",
       "      <th>4</th>\n",
       "      <td>5</td>\n",
       "      <td>7</td>\n",
       "      <td>1958</td>\n",
       "      <td>Gd</td>\n",
       "      <td>3</td>\n",
       "      <td>936</td>\n",
       "      <td>Gd</td>\n",
       "      <td>1026</td>\n",
       "      <td>1026</td>\n",
       "      <td>Gd</td>\n",
       "      <td>2</td>\n",
       "      <td>2005</td>\n",
       "      <td>2005</td>\n",
       "      <td>2005</td>\n",
       "      <td>250000</td>\n",
       "    </tr>\n",
       "  </tbody>\n",
       "</table>\n",
       "</div>"
      ],
      "text/plain": [
       "   id  Overall Qual  Gr Liv Area Exter Qual  Garage Cars  Garage Area  \\\n",
       "0   1            10         2392         Ex            3          968   \n",
       "1   2             7         1352         Gd            2          466   \n",
       "2   3             5          900         TA            1          288   \n",
       "3   4             5         1174         TA            2          576   \n",
       "4   5             7         1958         Gd            3          936   \n",
       "\n",
       "  Kitchen Qual  Total Bsmt SF  1st Flr SF Bsmt Qual  Full Bath  Year Built  \\\n",
       "0           Ex           2392        2392        Ex          2        2003   \n",
       "1           Gd           1352        1352        Ex          2        2006   \n",
       "2           TA            864         900        TA          1        1967   \n",
       "3           Gd            680         680        TA          1        1900   \n",
       "4           Gd           1026        1026        Gd          2        2005   \n",
       "\n",
       "   Year Remod/Add  Garage Yr Blt  target  \n",
       "0            2003           2003  386250  \n",
       "1            2007           2006  194000  \n",
       "2            1967           1967  123000  \n",
       "3            2006           2000  135000  \n",
       "4            2005           2005  250000  "
      ]
     },
     "execution_count": 57,
     "metadata": {},
     "output_type": "execute_result"
    }
   ],
   "source": [
    "train.head()"
   ]
  },
  {
   "cell_type": "code",
   "execution_count": 58,
   "metadata": {},
   "outputs": [],
   "source": [
    "train = train.drop('id', axis=1)\n",
    "test = test.drop('id', axis=1)"
   ]
  },
  {
   "cell_type": "markdown",
   "metadata": {},
   "source": [
    "# 2. 결측치 확인\n",
    "- 결측치는 없다."
   ]
  },
  {
   "cell_type": "code",
   "execution_count": 59,
   "metadata": {},
   "outputs": [
    {
     "data": {
      "text/plain": [
       "Overall Qual      0\n",
       "Gr Liv Area       0\n",
       "Exter Qual        0\n",
       "Garage Cars       0\n",
       "Garage Area       0\n",
       "Kitchen Qual      0\n",
       "Total Bsmt SF     0\n",
       "1st Flr SF        0\n",
       "Bsmt Qual         0\n",
       "Full Bath         0\n",
       "Year Built        0\n",
       "Year Remod/Add    0\n",
       "Garage Yr Blt     0\n",
       "target            0\n",
       "dtype: int64"
      ]
     },
     "execution_count": 59,
     "metadata": {},
     "output_type": "execute_result"
    }
   ],
   "source": [
    "# 결측치 확인\n",
    "train.isnull().sum()"
   ]
  },
  {
   "cell_type": "markdown",
   "metadata": {},
   "source": [
    "# 3. 상관관계 확인\n",
    "- target에 대해 모든 컬럼들이 0.5 이상의 상관관계를 보인다.\n",
    "- 특히, 전반적 퀄리티와 집값의 상관관계가 0.8로 높다."
   ]
  },
  {
   "cell_type": "code",
   "execution_count": 60,
   "metadata": {},
   "outputs": [
    {
     "data": {
      "text/plain": [
       "<AxesSubplot:>"
      ]
     },
     "execution_count": 60,
     "metadata": {},
     "output_type": "execute_result"
    },
    {
     "data": {
      "image/png": "[encoded data removed]",
      "text/plain": [
       "<Figure size 720x720 with 2 Axes>"
      ]
     },
     "metadata": {
      "needs_background": "light"
     },
     "output_type": "display_data"
    }
   ],
   "source": [
    "#상관관계 확인\n",
    "plt.figure(figsize=(10,10))\n",
    "sns.heatmap(train.corr(), annot=True)"
   ]
  },
  {
   "cell_type": "markdown",
   "metadata": {},
   "source": [
    "# 4. EDA"
   ]
  },
  {
   "cell_type": "markdown",
   "metadata": {},
   "source": [
    "## 4-1. Overall Qual\n",
    "- 2 ~ 10으로 구성되어 있고 중간단계인 5 ~ 7의 데이터가 가장 많다.\n",
    "- 퀄리티 단계가 높을 수록 집값은 더 높다."
   ]
  },
  {
   "cell_type": "code",
   "execution_count": 61,
   "metadata": {},
   "outputs": [
    {
     "data": {
      "image/png": "[encoded data removed]",
      "text/plain": [
       "<Figure size 432x288 with 1 Axes>"
      ]
     },
     "metadata": {
      "needs_background": "light"
     },
     "output_type": "display_data"
    }
   ],
   "source": [
    "train.groupby('Overall Qual')['target'].mean()\n",
    "sns.barplot(x=train.groupby('Overall Qual')['target'].count().index, y=train.groupby('Overall Qual')['target'].count())\n",
    "_=plt.title('전반적 퀄리티에 따른 데이터 개수')"
   ]
  },
  {
   "cell_type": "code",
   "execution_count": 62,
   "metadata": {},
   "outputs": [
    {
     "data": {
      "image/png": "[encoded data removed]",
      "text/plain": [
       "<Figure size 432x288 with 1 Axes>"
      ]
     },
     "metadata": {
      "needs_background": "light"
     },
     "output_type": "display_data"
    }
   ],
   "source": [
    "qual_group = train.groupby('Overall Qual')['target'].mean().to_frame()\n",
    "sns.barplot(x = qual_group.index, y = qual_group['target'])\n",
    "_=plt.title('전반적 퀄리티 대비 가격')"
   ]
  },
  {
   "cell_type": "markdown",
   "metadata": {},
   "source": [
    "## 4-2. Year"
   ]
  },
  {
   "cell_type": "code",
   "execution_count": 63,
   "metadata": {},
   "outputs": [
    {
     "data": {
      "text/plain": [
       "2005    71\n",
       "2006    63\n",
       "2007    48\n",
       "2004    48\n",
       "2003    48\n",
       "        ..\n",
       "1908     1\n",
       "1913     1\n",
       "1917     1\n",
       "1919     1\n",
       "2010     1\n",
       "Name: Year Built, Length: 105, dtype: int64"
      ]
     },
     "execution_count": 63,
     "metadata": {},
     "output_type": "execute_result"
    }
   ],
   "source": [
    "#완공 연도\n",
    "train['Year Built'].value_counts(sort=True)"
   ]
  },
  {
   "cell_type": "code",
   "execution_count": 64,
   "metadata": {
    "scrolled": true
   },
   "outputs": [
    {
     "data": {
      "text/plain": [
       "[1880,\n",
       " 1882,\n",
       " 1885,\n",
       " 1890,\n",
       " 1892,\n",
       " 1893,\n",
       " 1900,\n",
       " 1908,\n",
       " 1910,\n",
       " 1912,\n",
       " 1913,\n",
       " 1914,\n",
       " 1915,\n",
       " 1916,\n",
       " 1917,\n",
       " 1918,\n",
       " 1919,\n",
       " 1920,\n",
       " 1921,\n",
       " 1922,\n",
       " 1923,\n",
       " 1924,\n",
       " 1925,\n",
       " 1926,\n",
       " 1927,\n",
       " 1928,\n",
       " 1929,\n",
       " 1930,\n",
       " 1931,\n",
       " 1932,\n",
       " 1934,\n",
       " 1935,\n",
       " 1936,\n",
       " 1937,\n",
       " 1938,\n",
       " 1939,\n",
       " 1940,\n",
       " 1941,\n",
       " 1942,\n",
       " 1945,\n",
       " 1946,\n",
       " 1947,\n",
       " 1948,\n",
       " 1949,\n",
       " 1950,\n",
       " 1951,\n",
       " 1952,\n",
       " 1953,\n",
       " 1954,\n",
       " 1955,\n",
       " 1956,\n",
       " 1957,\n",
       " 1958,\n",
       " 1959,\n",
       " 1960,\n",
       " 1961,\n",
       " 1962,\n",
       " 1963,\n",
       " 1964,\n",
       " 1965,\n",
       " 1966,\n",
       " 1967,\n",
       " 1968,\n",
       " 1969,\n",
       " 1970,\n",
       " 1971,\n",
       " 1972,\n",
       " 1973,\n",
       " 1974,\n",
       " 1975,\n",
       " 1976,\n",
       " 1977,\n",
       " 1978,\n",
       " 1979,\n",
       " 1980,\n",
       " 1981,\n",
       " 1982,\n",
       " 1983,\n",
       " 1984,\n",
       " 1985,\n",
       " 1986,\n",
       " 1987,\n",
       " 1988,\n",
       " 1989,\n",
       " 1990,\n",
       " 1991,\n",
       " 1992,\n",
       " 1993,\n",
       " 1994,\n",
       " 1995,\n",
       " 1996,\n",
       " 1997,\n",
       " 1998,\n",
       " 1999,\n",
       " 2000,\n",
       " 2001,\n",
       " 2002,\n",
       " 2003,\n",
       " 2004,\n",
       " 2005,\n",
       " 2006,\n",
       " 2007,\n",
       " 2008,\n",
       " 2009,\n",
       " 2010]"
      ]
     },
     "execution_count": 64,
     "metadata": {},
     "output_type": "execute_result"
    }
   ],
   "source": [
    "sorted(train['Year Built'].unique())"
   ]
  },
  {
   "cell_type": "code",
   "execution_count": 65,
   "metadata": {},
   "outputs": [],
   "source": [
    "#연대 정리해주는 함수\n",
    "def tail_year(x):\n",
    "    if 0<=x<10:\n",
    "        return '00'\n",
    "    elif 10<=x<20:\n",
    "        return '10'\n",
    "    elif 20<=x<30:\n",
    "        return '20'\n",
    "    elif 30<=x<40:\n",
    "        return '30'\n",
    "    elif 40<=x<50:\n",
    "        return '40'\n",
    "    elif 50<=x<60:\n",
    "        return '50'\n",
    "    elif 60<=x<70:\n",
    "        return '60'\n",
    "    elif 70<=x<80:\n",
    "        return '70'\n",
    "    elif 80<=x<90:\n",
    "        return '80'\n",
    "    elif 90<=x<100:\n",
    "        return '90'\n",
    "def year_processing(x):\n",
    "    xx = str(x)\n",
    "    if xx[:2] == '18':\n",
    "        return '18' + tail_year(int(xx[2:]))\n",
    "    elif xx[:2] == '19':\n",
    "        return '19' + tail_year(int(xx[2:]))\n",
    "    elif xx[:2] == '20':\n",
    "        return '20' + tail_year(int(xx[2:]))"
   ]
  },
  {
   "cell_type": "code",
   "execution_count": 66,
   "metadata": {},
   "outputs": [],
   "source": [
    "#연대별로 변경\n",
    "train['Year Built'] = train['Year Built'].apply(lambda x:year_processing(x))\n",
    "train['Year Built'] = train['Year Built'].astype(int)\n",
    "\n",
    "test['Year Built'] = test['Year Built'].apply(lambda x:year_processing(x))\n",
    "test['Year Built'] = test['Year Built'].astype(int)"
   ]
  },
  {
   "cell_type": "code",
   "execution_count": 67,
   "metadata": {
    "scrolled": true
   },
   "outputs": [
    {
     "data": {
      "text/plain": [
       "2000    380\n",
       "1960    178\n",
       "1970    173\n",
       "1990    154\n",
       "1950    154\n",
       "1920     88\n",
       "1940     57\n",
       "1980     53\n",
       "1930     49\n",
       "1910     41\n",
       "1900     11\n",
       "1880      6\n",
       "1890      5\n",
       "2010      1\n",
       "Name: Year Built, dtype: int64"
      ]
     },
     "execution_count": 67,
     "metadata": {},
     "output_type": "execute_result"
    }
   ],
   "source": [
    "train['Year Built'].value_counts()"
   ]
  },
  {
   "cell_type": "code",
   "execution_count": null,
   "metadata": {},
   "outputs": [],
   "source": []
  },
  {
   "cell_type": "code",
   "execution_count": 68,
   "metadata": {},
   "outputs": [
    {
     "data": {
      "text/plain": [
       "1950    134\n",
       "2006     93\n",
       "2005     68\n",
       "2007     67\n",
       "2004     58\n",
       "       ... \n",
       "2010      5\n",
       "1986      4\n",
       "1988      4\n",
       "1982      4\n",
       "1951      4\n",
       "Name: Year Remod/Add, Length: 61, dtype: int64"
      ]
     },
     "execution_count": 68,
     "metadata": {},
     "output_type": "execute_result"
    }
   ],
   "source": [
    "#리모델링 연도\n",
    "train['Year Remod/Add'].value_counts(sort=True)"
   ]
  },
  {
   "cell_type": "code",
   "execution_count": 69,
   "metadata": {},
   "outputs": [],
   "source": [
    "#연대별로 정리\n",
    "train['Year Remod/Add'] = train['Year Remod/Add'].apply(lambda x:year_processing(x))\n",
    "train['Year Remod/Add'] = train['Year Remod/Add'].astype(int)\n",
    "\n",
    "test['Year Remod/Add'] = test['Year Remod/Add'].apply(lambda x:year_processing(x))\n",
    "test['Year Remod/Add'] = test['Year Remod/Add'].astype(int)"
   ]
  },
  {
   "cell_type": "code",
   "execution_count": 70,
   "metadata": {},
   "outputs": [
    {
     "data": {
      "text/plain": [
       "2000    496\n",
       "1990    234\n",
       "1950    226\n",
       "1970    172\n",
       "1960    140\n",
       "1980     77\n",
       "2010      5\n",
       "Name: Year Remod/Add, dtype: int64"
      ]
     },
     "execution_count": 70,
     "metadata": {},
     "output_type": "execute_result"
    }
   ],
   "source": [
    "train['Year Remod/Add'].value_counts()"
   ]
  },
  {
   "cell_type": "markdown",
   "metadata": {},
   "source": [
    "## Drop 연관 컬럼"
   ]
  },
  {
   "cell_type": "code",
   "execution_count": 71,
   "metadata": {},
   "outputs": [
    {
     "data": {
      "text/plain": [
       "Index(['Overall Qual', 'Gr Liv Area', 'Exter Qual', 'Garage Cars',\n",
       "       'Garage Area', 'Kitchen Qual', 'Total Bsmt SF', '1st Flr SF',\n",
       "       'Bsmt Qual', 'Full Bath', 'Year Built', 'Year Remod/Add',\n",
       "       'Garage Yr Blt', 'target'],\n",
       "      dtype='object')"
      ]
     },
     "execution_count": 71,
     "metadata": {},
     "output_type": "execute_result"
    }
   ],
   "source": [
    "train.columns"
   ]
  },
  {
   "cell_type": "code",
   "execution_count": 72,
   "metadata": {},
   "outputs": [],
   "source": [
    "#차고 자리 개수와 차고 면적은 의미가 비슷하므로 자리 개수를 drop\n",
    "train = train.drop('Garage Cars', axis=1)\n",
    "test = test.drop('Garage Cars', axis=1)"
   ]
  },
  {
   "cell_type": "markdown",
   "metadata": {},
   "source": [
    "# 이상치 확인 및 처리"
   ]
  },
  {
   "cell_type": "code",
   "execution_count": 73,
   "metadata": {},
   "outputs": [
    {
     "data": {
      "text/plain": [
       "['Overall Qual',\n",
       " 'Gr Liv Area',\n",
       " 'Garage Area',\n",
       " 'Total Bsmt SF',\n",
       " '1st Flr SF',\n",
       " 'Full Bath',\n",
       " 'Year Built',\n",
       " 'Year Remod/Add',\n",
       " 'Garage Yr Blt']"
      ]
     },
     "execution_count": 73,
     "metadata": {},
     "output_type": "execute_result"
    }
   ],
   "source": [
    "[i for i in train.columns[:-1] if np.dtype(train[i]) != 'object']"
   ]
  },
  {
   "cell_type": "code",
   "execution_count": 74,
   "metadata": {},
   "outputs": [
    {
     "data": {
      "image/png": "[encoded data removed]",
      "text/plain": [
       "<Figure size 1080x1152 with 9 Axes>"
      ]
     },
     "metadata": {
      "needs_background": "light"
     },
     "output_type": "display_data"
    }
   ],
   "source": [
    "fig, axes = plt.subplots(nrows=3, ncols=3, figsize=(15, 16))\n",
    "col_list = [i for i in train.columns[:-1] if np.dtype(train[i]) != 'object']\n",
    "for row in range(3):\n",
    "    for col in range(3):\n",
    "        idx = row * 3 + col\n",
    "        \n",
    "        if idx < len(col_list):\n",
    "            ax = axes[row][col]\n",
    "            col_name = col_list[idx]\n",
    "            sns.boxplot(data=train[col_name], ax=ax)\n",
    "            ax.set(xlabel=col_name)"
   ]
  },
  {
   "cell_type": "code",
   "execution_count": 75,
   "metadata": {},
   "outputs": [
    {
     "data": {
      "text/plain": [
       "2005    70\n",
       "2006    53\n",
       "2007    51\n",
       "2004    50\n",
       "2003    49\n",
       "        ..\n",
       "1924     1\n",
       "1929     1\n",
       "1931     1\n",
       "1943     1\n",
       "2207     1\n",
       "Name: Garage Yr Blt, Length: 97, dtype: int64"
      ]
     },
     "execution_count": 75,
     "metadata": {},
     "output_type": "execute_result"
    }
   ],
   "source": [
    "#Garage Yr Blt\n",
    "train['Garage Yr Blt'].value_counts()"
   ]
  },
  {
   "cell_type": "code",
   "execution_count": 79,
   "metadata": {},
   "outputs": [
    {
     "data": {
      "text/html": [
       "<div>\n",
       "<style scoped>\n",
       "    .dataframe tbody tr th:only-of-type {\n",
       "        vertical-align: middle;\n",
       "    }\n",
       "\n",
       "    .dataframe tbody tr th {\n",
       "        vertical-align: top;\n",
       "    }\n",
       "\n",
       "    .dataframe thead th {\n",
       "        text-align: right;\n",
       "    }\n",
       "</style>\n",
       "<table border=\"1\" class=\"dataframe\">\n",
       "  <thead>\n",
       "    <tr style=\"text-align: right;\">\n",
       "      <th></th>\n",
       "      <th>Overall Qual</th>\n",
       "      <th>Gr Liv Area</th>\n",
       "      <th>Exter Qual</th>\n",
       "      <th>Garage Area</th>\n",
       "      <th>Kitchen Qual</th>\n",
       "      <th>Total Bsmt SF</th>\n",
       "      <th>1st Flr SF</th>\n",
       "      <th>Bsmt Qual</th>\n",
       "      <th>Full Bath</th>\n",
       "      <th>Year Built</th>\n",
       "      <th>Year Remod/Add</th>\n",
       "      <th>Garage Yr Blt</th>\n",
       "      <th>target</th>\n",
       "    </tr>\n",
       "  </thead>\n",
       "  <tbody>\n",
       "    <tr>\n",
       "      <th>254</th>\n",
       "      <td>8</td>\n",
       "      <td>1564</td>\n",
       "      <td>Gd</td>\n",
       "      <td>502</td>\n",
       "      <td>Ex</td>\n",
       "      <td>1546</td>\n",
       "      <td>1564</td>\n",
       "      <td>Gd</td>\n",
       "      <td>2</td>\n",
       "      <td>2000</td>\n",
       "      <td>2000</td>\n",
       "      <td>2207</td>\n",
       "      <td>267300</td>\n",
       "    </tr>\n",
       "  </tbody>\n",
       "</table>\n",
       "</div>"
      ],
      "text/plain": [
       "     Overall Qual  Gr Liv Area Exter Qual  Garage Area Kitchen Qual  \\\n",
       "254             8         1564         Gd          502           Ex   \n",
       "\n",
       "     Total Bsmt SF  1st Flr SF Bsmt Qual  Full Bath  Year Built  \\\n",
       "254           1546        1564        Gd          2        2000   \n",
       "\n",
       "     Year Remod/Add  Garage Yr Blt  target  \n",
       "254            2000           2207  267300  "
      ]
     },
     "execution_count": 79,
     "metadata": {},
     "output_type": "execute_result"
    },
    {
     "data": {
      "image/png": "[encoded data removed]",
      "text/plain": [
       "<Figure size 432x288 with 1 Axes>"
      ]
     },
     "metadata": {
      "needs_background": "light"
     },
     "output_type": "display_data"
    }
   ],
   "source": [
    "#2207년 데이터 발견\n",
    "sns.histplot(train['Garage Yr Blt'])\n",
    "train[train['Garage Yr Blt']>=2022]"
   ]
  },
  {
   "cell_type": "code",
   "execution_count": 80,
   "metadata": {},
   "outputs": [],
   "source": [
    "#2207년 데이터 삭제\n",
    "train = train.drop(train[train['Garage Yr Blt']>=2022].index)"
   ]
  },
  {
   "cell_type": "code",
   "execution_count": 81,
   "metadata": {},
   "outputs": [
    {
     "data": {
      "text/plain": [
       "<AxesSubplot:xlabel='Garage Yr Blt', ylabel='Count'>"
      ]
     },
     "execution_count": 81,
     "metadata": {},
     "output_type": "execute_result"
    },
    {
     "data": {
      "image/png": "[encoded data removed]",
      "text/plain": [
       "<Figure size 432x288 with 1 Axes>"
      ]
     },
     "metadata": {
      "needs_background": "light"
     },
     "output_type": "display_data"
    }
   ],
   "source": [
    "sns.histplot(train['Garage Yr Blt'])"
   ]
  },
  {
   "cell_type": "code",
   "execution_count": 84,
   "metadata": {},
   "outputs": [
    {
     "data": {
      "text/plain": [
       "<AxesSubplot:xlabel='Total Bsmt SF', ylabel='Count'>"
      ]
     },
     "execution_count": 84,
     "metadata": {},
     "output_type": "execute_result"
    },
    {
     "data": {
      "image/png": "[encoded data removed]",
      "text/plain": [
       "<Figure size 432x288 with 1 Axes>"
      ]
     },
     "metadata": {
      "needs_background": "light"
     },
     "output_type": "display_data"
    }
   ],
   "source": [
    "#Total Bsmt SF\n",
    "sns.histplot(train['Total Bsmt SF'])"
   ]
  },
  {
   "cell_type": "code",
   "execution_count": 85,
   "metadata": {},
   "outputs": [
    {
     "data": {
      "text/plain": [
       "<AxesSubplot:xlabel='Gr Liv Area', ylabel='Count'>"
      ]
     },
     "execution_count": 85,
     "metadata": {},
     "output_type": "execute_result"
    },
    {
     "data": {
      "image/png": "[encoded data removed]",
      "text/plain": [
       "<Figure size 432x288 with 1 Axes>"
      ]
     },
     "metadata": {
      "needs_background": "light"
     },
     "output_type": "display_data"
    }
   ],
   "source": [
    "#Gr Liv Area\n",
    "sns.histplot(train['Gr Liv Area'])"
   ]
  },
  {
   "cell_type": "code",
   "execution_count": 86,
   "metadata": {},
   "outputs": [
    {
     "data": {
      "text/html": [
       "<div>\n",
       "<style scoped>\n",
       "    .dataframe tbody tr th:only-of-type {\n",
       "        vertical-align: middle;\n",
       "    }\n",
       "\n",
       "    .dataframe tbody tr th {\n",
       "        vertical-align: top;\n",
       "    }\n",
       "\n",
       "    .dataframe thead th {\n",
       "        text-align: right;\n",
       "    }\n",
       "</style>\n",
       "<table border=\"1\" class=\"dataframe\">\n",
       "  <thead>\n",
       "    <tr style=\"text-align: right;\">\n",
       "      <th></th>\n",
       "      <th>Overall Qual</th>\n",
       "      <th>Gr Liv Area</th>\n",
       "      <th>Exter Qual</th>\n",
       "      <th>Garage Area</th>\n",
       "      <th>Kitchen Qual</th>\n",
       "      <th>Total Bsmt SF</th>\n",
       "      <th>1st Flr SF</th>\n",
       "      <th>Bsmt Qual</th>\n",
       "      <th>Full Bath</th>\n",
       "      <th>Year Built</th>\n",
       "      <th>Year Remod/Add</th>\n",
       "      <th>Garage Yr Blt</th>\n",
       "      <th>target</th>\n",
       "    </tr>\n",
       "  </thead>\n",
       "  <tbody>\n",
       "    <tr>\n",
       "      <th>462</th>\n",
       "      <td>10</td>\n",
       "      <td>3627</td>\n",
       "      <td>Gd</td>\n",
       "      <td>807</td>\n",
       "      <td>Gd</td>\n",
       "      <td>1930</td>\n",
       "      <td>1831</td>\n",
       "      <td>Ex</td>\n",
       "      <td>3</td>\n",
       "      <td>1990</td>\n",
       "      <td>1990</td>\n",
       "      <td>1995</td>\n",
       "      <td>625000</td>\n",
       "    </tr>\n",
       "    <tr>\n",
       "      <th>683</th>\n",
       "      <td>10</td>\n",
       "      <td>3608</td>\n",
       "      <td>Gd</td>\n",
       "      <td>840</td>\n",
       "      <td>Ex</td>\n",
       "      <td>1107</td>\n",
       "      <td>1518</td>\n",
       "      <td>TA</td>\n",
       "      <td>2</td>\n",
       "      <td>1890</td>\n",
       "      <td>1990</td>\n",
       "      <td>1993</td>\n",
       "      <td>475000</td>\n",
       "    </tr>\n",
       "    <tr>\n",
       "      <th>856</th>\n",
       "      <td>10</td>\n",
       "      <td>4476</td>\n",
       "      <td>Gd</td>\n",
       "      <td>813</td>\n",
       "      <td>Ex</td>\n",
       "      <td>2396</td>\n",
       "      <td>2411</td>\n",
       "      <td>Ex</td>\n",
       "      <td>3</td>\n",
       "      <td>1990</td>\n",
       "      <td>1990</td>\n",
       "      <td>1996</td>\n",
       "      <td>745000</td>\n",
       "    </tr>\n",
       "  </tbody>\n",
       "</table>\n",
       "</div>"
      ],
      "text/plain": [
       "     Overall Qual  Gr Liv Area Exter Qual  Garage Area Kitchen Qual  \\\n",
       "462            10         3627         Gd          807           Gd   \n",
       "683            10         3608         Gd          840           Ex   \n",
       "856            10         4476         Gd          813           Ex   \n",
       "\n",
       "     Total Bsmt SF  1st Flr SF Bsmt Qual  Full Bath  Year Built  \\\n",
       "462           1930        1831        Ex          3        1990   \n",
       "683           1107        1518        TA          2        1890   \n",
       "856           2396        2411        Ex          3        1990   \n",
       "\n",
       "     Year Remod/Add  Garage Yr Blt  target  \n",
       "462            1990           1995  625000  \n",
       "683            1990           1993  475000  \n",
       "856            1990           1996  745000  "
      ]
     },
     "execution_count": 86,
     "metadata": {},
     "output_type": "execute_result"
    }
   ],
   "source": [
    "train[train['Gr Liv Area']>=3500]"
   ]
  },
  {
   "cell_type": "code",
   "execution_count": null,
   "metadata": {},
   "outputs": [],
   "source": []
  },
  {
   "cell_type": "markdown",
   "metadata": {},
   "source": [
    "# Test Model"
   ]
  },
  {
   "cell_type": "code",
   "execution_count": 90,
   "metadata": {},
   "outputs": [
    {
     "name": "stdout",
     "output_type": "stream",
     "text": [
      "<class 'pandas.core.frame.DataFrame'>\n",
      "Int64Index: 1349 entries, 0 to 1349\n",
      "Data columns (total 13 columns):\n",
      " #   Column          Non-Null Count  Dtype \n",
      "---  ------          --------------  ----- \n",
      " 0   Overall Qual    1349 non-null   int64 \n",
      " 1   Gr Liv Area     1349 non-null   int64 \n",
      " 2   Exter Qual      1349 non-null   object\n",
      " 3   Garage Area     1349 non-null   int64 \n",
      " 4   Kitchen Qual    1349 non-null   object\n",
      " 5   Total Bsmt SF   1349 non-null   int64 \n",
      " 6   1st Flr SF      1349 non-null   int64 \n",
      " 7   Bsmt Qual       1349 non-null   object\n",
      " 8   Full Bath       1349 non-null   int64 \n",
      " 9   Year Built      1349 non-null   int32 \n",
      " 10  Year Remod/Add  1349 non-null   int32 \n",
      " 11  Garage Yr Blt   1349 non-null   int64 \n",
      " 12  target          1349 non-null   int64 \n",
      "dtypes: int32(2), int64(8), object(3)\n",
      "memory usage: 137.0+ KB\n"
     ]
    }
   ],
   "source": [
    "train.info()"
   ]
  },
  {
   "cell_type": "code",
   "execution_count": null,
   "metadata": {},
   "outputs": [],
   "source": []
  },
  {
   "cell_type": "code",
   "execution_count": 91,
   "metadata": {},
   "outputs": [],
   "source": [
    "from sklearn.preprocessing import LabelEncoder\n",
    "le = LabelEncoder()\n",
    "cols = ['Exter Qual','Kitchen Qual','Bsmt Qual']\n",
    "for i in cols:\n",
    "    train[i] = le.fit_transform(train[i])\n",
    "    test[i] = le.fit_transform(test[i])"
   ]
  },
  {
   "cell_type": "code",
   "execution_count": 92,
   "metadata": {},
   "outputs": [],
   "source": [
    "X = train.drop('target', axis=1)\n",
    "y = train['target']"
   ]
  },
  {
   "cell_type": "code",
   "execution_count": 93,
   "metadata": {},
   "outputs": [
    {
     "data": {
      "text/plain": [
       "((1079, 12), (270, 12))"
      ]
     },
     "execution_count": 93,
     "metadata": {},
     "output_type": "execute_result"
    }
   ],
   "source": [
    "from sklearn.model_selection import train_test_split\n",
    "from sklearn.ensemble import RandomForestRegressor\n",
    "\n",
    "X_train, X_test, y_train, y_test = train_test_split(X, y, test_size=0.2, random_state=0)\n",
    "X_train.shape, X_test.shape"
   ]
  },
  {
   "cell_type": "code",
   "execution_count": 94,
   "metadata": {
    "scrolled": true
   },
   "outputs": [
    {
     "data": {
      "text/plain": [
       "RandomForestRegressor(n_estimators=1000)"
      ]
     },
     "execution_count": 94,
     "metadata": {},
     "output_type": "execute_result"
    }
   ],
   "source": [
    "model = RandomForestRegressor(n_estimators=1000)\n",
    "model.fit(X_train, y_train)"
   ]
  },
  {
   "cell_type": "code",
   "execution_count": 95,
   "metadata": {},
   "outputs": [
    {
     "name": "stdout",
     "output_type": "stream",
     "text": [
      "0.9836303427548269\n"
     ]
    }
   ],
   "source": [
    "print(model.score(X_train, y_train))"
   ]
  },
  {
   "cell_type": "code",
   "execution_count": 96,
   "metadata": {
    "scrolled": true
   },
   "outputs": [
    {
     "data": {
      "text/plain": [
       "array([221553.483     , 181678.78666667, 175102.982     , 201968.62935714,\n",
       "       258980.00380952, 219994.728     , 140276.571     , 266807.249     ,\n",
       "       125539.375     , 252407.542     , 194277.111     , 129178.23      ,\n",
       "       290001.783     , 167028.52      , 188552.55      , 206987.7915    ,\n",
       "       167807.68      , 136979.274     , 131843.245     , 178340.319     ,\n",
       "       264851.177     , 103864.561     , 147921.6323381 , 151275.978     ,\n",
       "       179979.1438    , 204287.49      , 122345.64      , 436653.458     ,\n",
       "       124337.8       , 116809.184     , 164732.085     ,  72625.47366667,\n",
       "       203828.17833929, 130621.025     , 222253.407     , 177397.818     ,\n",
       "       129631.22      , 128092.69      , 146164.40633333, 156495.938     ,\n",
       "       226184.813     , 128572.97      , 142922.65      , 142000.129     ,\n",
       "       129471.65      , 202053.933     , 263178.55907143, 152165.4       ,\n",
       "       349543.744     , 117220.75      , 211742.4665    , 217706.92      ,\n",
       "       152660.85333333, 177810.048     , 183860.712     , 271645.632     ,\n",
       "       128460.5       , 181645.456     , 104108.896     , 302530.847     ,\n",
       "       217768.186     , 225495.977     , 196420.642     , 254593.32766667,\n",
       "       146696.02766667, 136844.135     , 187938.4805    , 266080.239     ,\n",
       "       182257.07      , 167418.10833333, 109697.05266667, 252895.96733333,\n",
       "       137101.84      , 116689.66833333,  95716.171     , 123271.3       ,\n",
       "       152763.125     , 282950.457     , 110249.56      , 215114.949     ,\n",
       "       126975.35      , 191804.544     , 347705.233     , 250917.202     ,\n",
       "       138548.637     , 157073.16      ,  81143.19761905, 139147.325     ,\n",
       "       255763.794     , 183685.084     , 240631.067     , 219598.608     ,\n",
       "       153115.72945476, 185991.65793333, 130583.74      , 166362.323     ,\n",
       "       340362.316     , 130279.45      , 147458.48024892, 128646.986     ,\n",
       "       221567.191     , 330740.837     , 135901.335     , 162248.9718381 ,\n",
       "       155951.619     , 171868.815     , 363543.561     , 194121.21475   ,\n",
       "       137988.58666667, 151899.35      , 132271.039     , 132259.91      ,\n",
       "       311657.319     , 130746.825     , 143994.543     , 120084.955     ,\n",
       "       147378.51769048, 329436.791     , 279177.811     , 148895.662     ,\n",
       "       121908.23      , 162235.33571429, 105969.63      , 111919.105     ,\n",
       "       159543.867     , 321390.697     , 129138.46      , 184463.74325   ,\n",
       "       156852.7682619 , 135492.6       , 363791.973     , 169931.965     ,\n",
       "       167735.36      , 256930.993     ,  95187.713     , 137171.008     ,\n",
       "       195057.673     , 128920.833     , 143659.392     ,  96040.        ,\n",
       "       196822.37026071, 223285.384     , 195137.053     , 129911.375     ,\n",
       "       125173.764     , 170891.544     , 211002.178     , 125849.375     ,\n",
       "       143145.1525    , 193112.1       , 115821.775     , 250516.2615    ,\n",
       "       271739.589     , 202560.7695    , 153401.675     , 130923.8       ,\n",
       "       118323.65483333, 236874.026     , 132242.995     , 106818.925     ,\n",
       "       165442.348     , 252285.7377619 , 182007.325     , 187871.845     ,\n",
       "       136639.344     , 190392.5467    , 239204.063     , 135623.295     ,\n",
       "       135555.875     , 338969.461     , 253484.939     , 203923.61243929,\n",
       "       136617.25      , 229854.94783333, 268258.786     , 122562.475     ,\n",
       "       131918.7       , 157170.337     , 103004.36      , 167565.61      ,\n",
       "       127892.17066667, 131676.37      , 136494.193     , 168879.074     ,\n",
       "       323832.973     , 122806.34166667, 129568.05      , 353540.696     ,\n",
       "       238827.622     , 140429.6       , 146534.714     , 175415.652     ,\n",
       "       237240.378     , 116557.93      , 136736.65      , 152196.409     ,\n",
       "       140035.075     , 150931.839     ,  81750.63095238, 211948.815     ,\n",
       "       127222.99      , 134525.198     , 179594.006     , 362977.246     ,\n",
       "       160991.328     , 247891.32359524, 214111.421     , 123272.917     ,\n",
       "       354705.703     , 145159.389     , 338922.857     , 173330.05      ,\n",
       "       205044.9405    , 149739.451     , 150322.97      , 125646.668     ,\n",
       "       142301.345     , 224577.823     , 215283.281     , 144372.225     ,\n",
       "       130144.495     , 167068.8561619 , 156000.45      , 122816.812     ,\n",
       "       166262.428     , 146526.259     , 109520.66      , 118477.24933333,\n",
       "       234066.404     , 155853.95      , 333371.363     , 106762.99766667,\n",
       "       169810.28017381, 394464.997     , 161565.264     , 140294.15      ,\n",
       "        97988.021     , 235618.336     , 183170.839     , 203923.61243929,\n",
       "       187331.319     , 148381.125     , 170488.3       , 158199.05      ,\n",
       "       289479.773     , 209285.7065    , 286597.142     , 138504.26      ,\n",
       "       157760.867     , 116585.718     , 205036.16553333, 166659.653     ,\n",
       "       212630.346     , 190782.694     , 242484.161     , 224868.837     ,\n",
       "       129455.122     , 195509.946     , 162441.398     ,  96650.26428571,\n",
       "        90620.98571429, 120559.9       , 200575.84230952, 288798.00733333,\n",
       "       105984.35133333, 134644.27916667, 121254.903     , 153161.532     ,\n",
       "       265258.465     , 129997.98      ])"
      ]
     },
     "execution_count": 96,
     "metadata": {},
     "output_type": "execute_result"
    }
   ],
   "source": [
    "pred = model.predict(X_test)\n",
    "pred"
   ]
  },
  {
   "cell_type": "code",
   "execution_count": 97,
   "metadata": {},
   "outputs": [
    {
     "data": {
      "text/plain": [
       "842     260000\n",
       "184     199900\n",
       "527     169000\n",
       "1283    194700\n",
       "980     375000\n",
       "         ...  \n",
       "1218    144000\n",
       "1320    105500\n",
       "1076    177625\n",
       "907     229000\n",
       "1343    131750\n",
       "Name: target, Length: 270, dtype: int64"
      ]
     },
     "execution_count": 97,
     "metadata": {},
     "output_type": "execute_result"
    }
   ],
   "source": [
    "y_test"
   ]
  },
  {
   "cell_type": "code",
   "execution_count": 98,
   "metadata": {},
   "outputs": [],
   "source": [
    "# 대회 규칙의 평가 산식 함수를 그대로 사용\n",
    "def NMAE(true, pred):\n",
    "    mae = np.mean(np.abs(true-pred))\n",
    "    score = mae / np.mean(np.abs(true))\n",
    "    return score"
   ]
  },
  {
   "cell_type": "code",
   "execution_count": 99,
   "metadata": {},
   "outputs": [
    {
     "data": {
      "text/plain": [
       "0.1064784548734134"
      ]
     },
     "execution_count": 99,
     "metadata": {},
     "output_type": "execute_result"
    }
   ],
   "source": [
    "NMAE(y_test, pred)"
   ]
  },
  {
   "cell_type": "code",
   "execution_count": 53,
   "metadata": {},
   "outputs": [
    {
     "data": {
      "text/plain": [
       "0.1013690351945492"
      ]
     },
     "execution_count": 53,
     "metadata": {},
     "output_type": "execute_result"
    }
   ],
   "source": [
    "NMAE(y_test, pred)"
   ]
  },
  {
   "cell_type": "markdown",
   "metadata": {},
   "source": [
    "# Submission\n",
    "- base_submission : 연도만 전처리, Object는 Label Encoding 적용 후 RandomforestRegressor - 데이콘 점수 : 0.10237"
   ]
  },
  {
   "cell_type": "code",
   "execution_count": 272,
   "metadata": {
    "scrolled": true
   },
   "outputs": [],
   "source": [
    "sub = pd.read_csv('./data/sample_submission.csv')\n",
    "pred = model.predict(test)"
   ]
  },
  {
   "cell_type": "code",
   "execution_count": 273,
   "metadata": {},
   "outputs": [],
   "source": [
    "sub['target'] = pred"
   ]
  },
  {
   "cell_type": "code",
   "execution_count": 275,
   "metadata": {},
   "outputs": [],
   "source": [
    "# sub.to_csv('./submission_data/base_submission.csv', index=False)"
   ]
  },
  {
   "cell_type": "code",
   "execution_count": null,
   "metadata": {},
   "outputs": [],
   "source": []
  }
 ],
 "metadata": {
  "interpreter": {
   "hash": "1fd143375d94b770b4e9ab572ddccfbf3b62fce1075f6200b582adaf8e4e5029"
  },
  "kernelspec": {
   "display_name": "Python 3",
   "language": "python",
   "name": "python3"
  },
  "language_info": {
   "codemirror_mode": {
    "name": "ipython",
    "version": 3
   },
   "file_extension": ".py",
   "mimetype": "text/x-python",
   "name": "python",
   "nbconvert_exporter": "python",
   "pygments_lexer": "ipython3",
   "version": "3.8.5"
  },
  "toc": {
   "base_numbering": 1,
   "nav_menu": {},
   "number_sections": true,
   "sideBar": true,
   "skip_h1_title": false,
   "title_cell": "Table of Contents",
   "title_sidebar": "Contents",
   "toc_cell": false,
   "toc_position": {
    "height": "calc(100% - 180px)",
    "left": "10px",
    "top": "150px",
    "width": "165px"
   },
   "toc_section_display": true,
   "toc_window_display": true
  },
  "varInspector": {
   "cols": {
    "lenName": 16,
    "lenType": 16,
    "lenVar": 40
   },
   "kernels_config": {
    "python": {
     "delete_cmd_postfix": "",
     "delete_cmd_prefix": "del ",
     "library": "var_list.py",
     "varRefreshCmd": "print(var_dic_list())"
    },
    "r": {
     "delete_cmd_postfix": ") ",
     "delete_cmd_prefix": "rm(",
     "library": "var_list.r",
     "varRefreshCmd": "cat(var_dic_list()) "
    }
   },
   "types_to_exclude": [
    "module",
    "function",
    "builtin_function_or_method",
    "instance",
    "_Feature"
   ],
   "window_display": false
  }
 },
 "nbformat": 4,
 "nbformat_minor": 2
}
