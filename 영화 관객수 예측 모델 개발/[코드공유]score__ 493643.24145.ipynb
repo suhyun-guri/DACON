{
 "cells": [
  {
   "cell_type": "markdown",
   "metadata": {},
   "source": [
    "# 영화 관객 예측\n",
    "***\n"
   ]
  },
  {
   "cell_type": "code",
   "execution_count": 463,
   "metadata": {},
   "outputs": [],
   "source": [
    "import pandas as pd\n",
    "import numpy as np\n",
    "import seaborn as sns\n",
    "import matplotlib.pyplot as plt\n",
    "import re\n",
    "import warnings\n",
    "warnings.filterwarnings('ignore')"
   ]
  },
  {
   "cell_type": "code",
   "execution_count": 464,
   "metadata": {},
   "outputs": [],
   "source": [
    "train = pd.read_csv(\"./data/movies_train.csv\")\n",
    "test = pd.read_csv('./data/movies_test.csv')\n",
    "submission = pd.read_csv('./data/submission.csv')"
   ]
  },
  {
   "cell_type": "code",
   "execution_count": 465,
   "metadata": {},
   "outputs": [
    {
     "data": {
      "text/html": [
       "<div>\n",
       "<style scoped>\n",
       "    .dataframe tbody tr th:only-of-type {\n",
       "        vertical-align: middle;\n",
       "    }\n",
       "\n",
       "    .dataframe tbody tr th {\n",
       "        vertical-align: top;\n",
       "    }\n",
       "\n",
       "    .dataframe thead th {\n",
       "        text-align: right;\n",
       "    }\n",
       "</style>\n",
       "<table border=\"1\" class=\"dataframe\">\n",
       "  <thead>\n",
       "    <tr style=\"text-align: right;\">\n",
       "      <th></th>\n",
       "      <th>title</th>\n",
       "      <th>distributor</th>\n",
       "      <th>genre</th>\n",
       "      <th>release_time</th>\n",
       "      <th>time</th>\n",
       "      <th>screening_rat</th>\n",
       "      <th>director</th>\n",
       "      <th>dir_prev_bfnum</th>\n",
       "      <th>dir_prev_num</th>\n",
       "      <th>num_staff</th>\n",
       "      <th>num_actor</th>\n",
       "      <th>box_off_num</th>\n",
       "    </tr>\n",
       "  </thead>\n",
       "  <tbody>\n",
       "    <tr>\n",
       "      <th>0</th>\n",
       "      <td>개들의 전쟁</td>\n",
       "      <td>롯데엔터테인먼트</td>\n",
       "      <td>액션</td>\n",
       "      <td>2012-11-22</td>\n",
       "      <td>96</td>\n",
       "      <td>청소년 관람불가</td>\n",
       "      <td>조병옥</td>\n",
       "      <td>NaN</td>\n",
       "      <td>0</td>\n",
       "      <td>91</td>\n",
       "      <td>2</td>\n",
       "      <td>23398</td>\n",
       "    </tr>\n",
       "    <tr>\n",
       "      <th>1</th>\n",
       "      <td>내부자들</td>\n",
       "      <td>(주)쇼박스</td>\n",
       "      <td>느와르</td>\n",
       "      <td>2015-11-19</td>\n",
       "      <td>130</td>\n",
       "      <td>청소년 관람불가</td>\n",
       "      <td>우민호</td>\n",
       "      <td>1161602.50</td>\n",
       "      <td>2</td>\n",
       "      <td>387</td>\n",
       "      <td>3</td>\n",
       "      <td>7072501</td>\n",
       "    </tr>\n",
       "    <tr>\n",
       "      <th>2</th>\n",
       "      <td>은밀하게 위대하게</td>\n",
       "      <td>(주)쇼박스</td>\n",
       "      <td>액션</td>\n",
       "      <td>2013-06-05</td>\n",
       "      <td>123</td>\n",
       "      <td>15세 관람가</td>\n",
       "      <td>장철수</td>\n",
       "      <td>220775.25</td>\n",
       "      <td>4</td>\n",
       "      <td>343</td>\n",
       "      <td>4</td>\n",
       "      <td>6959083</td>\n",
       "    </tr>\n",
       "  </tbody>\n",
       "</table>\n",
       "</div>"
      ],
      "text/plain": [
       "       title distributor genre release_time  time screening_rat director  \\\n",
       "0     개들의 전쟁    롯데엔터테인먼트    액션   2012-11-22    96      청소년 관람불가      조병옥   \n",
       "1       내부자들      (주)쇼박스   느와르   2015-11-19   130      청소년 관람불가      우민호   \n",
       "2  은밀하게 위대하게      (주)쇼박스    액션   2013-06-05   123       15세 관람가      장철수   \n",
       "\n",
       "   dir_prev_bfnum  dir_prev_num  num_staff  num_actor  box_off_num  \n",
       "0             NaN             0         91          2        23398  \n",
       "1      1161602.50             2        387          3      7072501  \n",
       "2       220775.25             4        343          4      6959083  "
      ]
     },
     "execution_count": 465,
     "metadata": {},
     "output_type": "execute_result"
    }
   ],
   "source": [
    "train.head(3)"
   ]
  },
  {
   "cell_type": "code",
   "execution_count": 466,
   "metadata": {},
   "outputs": [
    {
     "data": {
      "text/html": [
       "<div>\n",
       "<style scoped>\n",
       "    .dataframe tbody tr th:only-of-type {\n",
       "        vertical-align: middle;\n",
       "    }\n",
       "\n",
       "    .dataframe tbody tr th {\n",
       "        vertical-align: top;\n",
       "    }\n",
       "\n",
       "    .dataframe thead th {\n",
       "        text-align: right;\n",
       "    }\n",
       "</style>\n",
       "<table border=\"1\" class=\"dataframe\">\n",
       "  <thead>\n",
       "    <tr style=\"text-align: right;\">\n",
       "      <th></th>\n",
       "      <th>title</th>\n",
       "      <th>distributor</th>\n",
       "      <th>genre</th>\n",
       "      <th>release_time</th>\n",
       "      <th>time</th>\n",
       "      <th>screening_rat</th>\n",
       "      <th>director</th>\n",
       "      <th>dir_prev_bfnum</th>\n",
       "      <th>dir_prev_num</th>\n",
       "      <th>num_staff</th>\n",
       "      <th>num_actor</th>\n",
       "    </tr>\n",
       "  </thead>\n",
       "  <tbody>\n",
       "    <tr>\n",
       "      <th>0</th>\n",
       "      <td>용서는 없다</td>\n",
       "      <td>시네마서비스</td>\n",
       "      <td>느와르</td>\n",
       "      <td>2010-01-07</td>\n",
       "      <td>125</td>\n",
       "      <td>청소년 관람불가</td>\n",
       "      <td>김형준</td>\n",
       "      <td>3.005290e+05</td>\n",
       "      <td>2</td>\n",
       "      <td>304</td>\n",
       "      <td>3</td>\n",
       "    </tr>\n",
       "    <tr>\n",
       "      <th>1</th>\n",
       "      <td>아빠가 여자를 좋아해</td>\n",
       "      <td>(주)쇼박스</td>\n",
       "      <td>멜로/로맨스</td>\n",
       "      <td>2010-01-14</td>\n",
       "      <td>113</td>\n",
       "      <td>12세 관람가</td>\n",
       "      <td>이광재</td>\n",
       "      <td>3.427002e+05</td>\n",
       "      <td>4</td>\n",
       "      <td>275</td>\n",
       "      <td>3</td>\n",
       "    </tr>\n",
       "    <tr>\n",
       "      <th>2</th>\n",
       "      <td>하모니</td>\n",
       "      <td>CJ 엔터테인먼트</td>\n",
       "      <td>드라마</td>\n",
       "      <td>2010-01-28</td>\n",
       "      <td>115</td>\n",
       "      <td>12세 관람가</td>\n",
       "      <td>강대규</td>\n",
       "      <td>4.206611e+06</td>\n",
       "      <td>3</td>\n",
       "      <td>419</td>\n",
       "      <td>7</td>\n",
       "    </tr>\n",
       "  </tbody>\n",
       "</table>\n",
       "</div>"
      ],
      "text/plain": [
       "         title distributor   genre release_time  time screening_rat director  \\\n",
       "0       용서는 없다      시네마서비스     느와르   2010-01-07   125      청소년 관람불가      김형준   \n",
       "1  아빠가 여자를 좋아해      (주)쇼박스  멜로/로맨스   2010-01-14   113       12세 관람가      이광재   \n",
       "2          하모니   CJ 엔터테인먼트     드라마   2010-01-28   115       12세 관람가      강대규   \n",
       "\n",
       "   dir_prev_bfnum  dir_prev_num  num_staff  num_actor  \n",
       "0    3.005290e+05             2        304          3  \n",
       "1    3.427002e+05             4        275          3  \n",
       "2    4.206611e+06             3        419          7  "
      ]
     },
     "execution_count": 466,
     "metadata": {},
     "output_type": "execute_result"
    }
   ],
   "source": [
    "test.head(3)"
   ]
  },
  {
   "cell_type": "code",
   "execution_count": 467,
   "metadata": {
    "scrolled": true
   },
   "outputs": [
    {
     "data": {
      "text/html": [
       "<div>\n",
       "<style scoped>\n",
       "    .dataframe tbody tr th:only-of-type {\n",
       "        vertical-align: middle;\n",
       "    }\n",
       "\n",
       "    .dataframe tbody tr th {\n",
       "        vertical-align: top;\n",
       "    }\n",
       "\n",
       "    .dataframe thead th {\n",
       "        text-align: right;\n",
       "    }\n",
       "</style>\n",
       "<table border=\"1\" class=\"dataframe\">\n",
       "  <thead>\n",
       "    <tr style=\"text-align: right;\">\n",
       "      <th></th>\n",
       "      <th>title</th>\n",
       "      <th>box_off_num</th>\n",
       "    </tr>\n",
       "  </thead>\n",
       "  <tbody>\n",
       "    <tr>\n",
       "      <th>0</th>\n",
       "      <td>용서는 없다</td>\n",
       "      <td>0</td>\n",
       "    </tr>\n",
       "    <tr>\n",
       "      <th>1</th>\n",
       "      <td>아빠가 여자를 좋아해</td>\n",
       "      <td>0</td>\n",
       "    </tr>\n",
       "    <tr>\n",
       "      <th>2</th>\n",
       "      <td>하모니</td>\n",
       "      <td>0</td>\n",
       "    </tr>\n",
       "  </tbody>\n",
       "</table>\n",
       "</div>"
      ],
      "text/plain": [
       "         title  box_off_num\n",
       "0       용서는 없다            0\n",
       "1  아빠가 여자를 좋아해            0\n",
       "2          하모니            0"
      ]
     },
     "execution_count": 467,
     "metadata": {},
     "output_type": "execute_result"
    }
   ],
   "source": [
    "submission.head(3)"
   ]
  },
  {
   "cell_type": "markdown",
   "metadata": {},
   "source": [
    "#### 배급사 전처리"
   ]
  },
  {
   "cell_type": "code",
   "execution_count": 468,
   "metadata": {},
   "outputs": [],
   "source": [
    "train['distributor'] = train.distributor.str.replace(\"(주)\", '')\n",
    "test['distributor'] = test.distributor.str.replace(\"(주)\", '')"
   ]
  },
  {
   "cell_type": "code",
   "execution_count": 469,
   "metadata": {},
   "outputs": [],
   "source": [
    "train['distributor'] = [re.sub(r'[^0-9a-zA-Z가-힣]', '', x) for x in train.distributor]\n",
    "test['distributor'] = [re.sub(r'[^0-9a-zA-Z가-힣]', '', x) for x in test.distributor]"
   ]
  },
  {
   "cell_type": "code",
   "execution_count": 470,
   "metadata": {},
   "outputs": [],
   "source": [
    "def get_dis(x) :\n",
    "    if 'CJ' in x or 'CGV' in x :\n",
    "        return 'CJ'\n",
    "    elif '쇼박스' in x :\n",
    "        return '쇼박스'\n",
    "    elif 'SK' in x :\n",
    "        return 'SK'\n",
    "    elif '리틀빅픽' in x :\n",
    "        return '리틀빅픽처스'\n",
    "    elif '스폰지' in x :\n",
    "        return '스폰지'\n",
    "    elif '싸이더스' in x :\n",
    "        return '싸이더스'\n",
    "    elif '에이원' in x :\n",
    "        return '에이원'\n",
    "    elif '마인스' in x :\n",
    "        return '마인스'\n",
    "    elif '마운틴픽' in x :\n",
    "        return '마운틴픽처스'\n",
    "    elif '디씨드' in x :\n",
    "        return '디씨드'\n",
    "    elif '드림팩트' in x :\n",
    "        return '드림팩트'\n",
    "    elif '메가박스' in x :\n",
    "        return '메가박스'\n",
    "    elif '마운틴' in x :\n",
    "        return '마운틴'\n",
    "    else :\n",
    "        return x"
   ]
  },
  {
   "cell_type": "code",
   "execution_count": 471,
   "metadata": {},
   "outputs": [],
   "source": [
    "train['distributor'] = train.distributor.apply(get_dis)\n",
    "test['distributor'] = test.distributor.apply(get_dis)"
   ]
  },
  {
   "cell_type": "markdown",
   "metadata": {},
   "source": [
    "#### 장르별 영화 관객수 평균값으로 랭크 인코딩"
   ]
  },
  {
   "cell_type": "code",
   "execution_count": 509,
   "metadata": {},
   "outputs": [
    {
     "data": {
      "text/plain": [
       "genre\n",
       "뮤지컬       6.627000e+03\n",
       "다큐멘터리     6.717226e+04\n",
       "서스펜스      8.261100e+04\n",
       "애니메이션     1.819267e+05\n",
       "멜로/로맨스    4.259680e+05\n",
       "미스터리      5.275482e+05\n",
       "공포        5.908325e+05\n",
       "드라마       6.256898e+05\n",
       "코미디       1.193914e+06\n",
       "SF        1.788346e+06\n",
       "액션        2.203974e+06\n",
       "느와르       2.263695e+06\n",
       "Name: box_off_num, dtype: float64"
      ]
     },
     "execution_count": 509,
     "metadata": {},
     "output_type": "execute_result"
    }
   ],
   "source": [
    "train.groupby('genre').box_off_num.mean().sort_values()"
   ]
  },
  {
   "cell_type": "code",
   "execution_count": 472,
   "metadata": {},
   "outputs": [],
   "source": [
    "train['genre_rank'] = train.genre.map({'뮤지컬' : 1, '다큐멘터리' : 2, '서스펜스' : 3, '애니메이션' : 4, '멜로/로맨스' : 5,\n",
    "                                      '미스터리' : 6, '공포' : 7, '드라마' : 8, '코미디' : 9, 'SF' : 10, '액션' : 11, '느와르' : 12})\n",
    "test['genre_rank'] = test.genre.map({'뮤지컬' : 1, '다큐멘터리' : 2, '서스펜스' : 3, '애니메이션' : 4, '멜로/로맨스' : 5,\n",
    "                                      '미스터리' : 6, '공포' : 7, '드라마' : 8, '코미디' : 9, 'SF' : 10, '액션' : 11, '느와르' : 12})"
   ]
  },
  {
   "cell_type": "markdown",
   "metadata": {},
   "source": [
    "#### 배급사별 영화 관객수 중위값 기준으로 배급사 랭크 인코딩"
   ]
  },
  {
   "cell_type": "code",
   "execution_count": 473,
   "metadata": {
    "scrolled": true
   },
   "outputs": [
    {
     "data": {
      "text/html": [
       "<div>\n",
       "<style scoped>\n",
       "    .dataframe tbody tr th:only-of-type {\n",
       "        vertical-align: middle;\n",
       "    }\n",
       "\n",
       "    .dataframe tbody tr th {\n",
       "        vertical-align: top;\n",
       "    }\n",
       "\n",
       "    .dataframe thead th {\n",
       "        text-align: right;\n",
       "    }\n",
       "</style>\n",
       "<table border=\"1\" class=\"dataframe\">\n",
       "  <thead>\n",
       "    <tr style=\"text-align: right;\">\n",
       "      <th></th>\n",
       "      <th>distributor</th>\n",
       "      <th>num_rank</th>\n",
       "    </tr>\n",
       "  </thead>\n",
       "  <tbody>\n",
       "    <tr>\n",
       "      <th>110</th>\n",
       "      <td>인피니티엔터테인먼트</td>\n",
       "      <td>2.0</td>\n",
       "    </tr>\n",
       "    <tr>\n",
       "      <th>15</th>\n",
       "      <td>고구마공작소</td>\n",
       "      <td>8.0</td>\n",
       "    </tr>\n",
       "    <tr>\n",
       "      <th>52</th>\n",
       "      <td>사람과사람들</td>\n",
       "      <td>42.0</td>\n",
       "    </tr>\n",
       "    <tr>\n",
       "      <th>97</th>\n",
       "      <td>위드시네마</td>\n",
       "      <td>46.0</td>\n",
       "    </tr>\n",
       "    <tr>\n",
       "      <th>19</th>\n",
       "      <td>나우콘텐츠</td>\n",
       "      <td>54.0</td>\n",
       "    </tr>\n",
       "    <tr>\n",
       "      <th>...</th>\n",
       "      <td>...</td>\n",
       "      <td>...</td>\n",
       "    </tr>\n",
       "    <tr>\n",
       "      <th>113</th>\n",
       "      <td>전망좋은영화사</td>\n",
       "      <td>1214237.0</td>\n",
       "    </tr>\n",
       "    <tr>\n",
       "      <th>105</th>\n",
       "      <td>이십세기폭스코리아</td>\n",
       "      <td>1422844.0</td>\n",
       "    </tr>\n",
       "    <tr>\n",
       "      <th>56</th>\n",
       "      <td>쇼박스</td>\n",
       "      <td>2138560.0</td>\n",
       "    </tr>\n",
       "    <tr>\n",
       "      <th>84</th>\n",
       "      <td>영구아트무비</td>\n",
       "      <td>2541603.0</td>\n",
       "    </tr>\n",
       "    <tr>\n",
       "      <th>75</th>\n",
       "      <td>아이필름코퍼레이션</td>\n",
       "      <td>3117859.0</td>\n",
       "    </tr>\n",
       "  </tbody>\n",
       "</table>\n",
       "<p>147 rows × 2 columns</p>\n",
       "</div>"
      ],
      "text/plain": [
       "    distributor   num_rank\n",
       "110  인피니티엔터테인먼트        2.0\n",
       "15       고구마공작소        8.0\n",
       "52       사람과사람들       42.0\n",
       "97        위드시네마       46.0\n",
       "19        나우콘텐츠       54.0\n",
       "..          ...        ...\n",
       "113     전망좋은영화사  1214237.0\n",
       "105   이십세기폭스코리아  1422844.0\n",
       "56          쇼박스  2138560.0\n",
       "84       영구아트무비  2541603.0\n",
       "75    아이필름코퍼레이션  3117859.0\n",
       "\n",
       "[147 rows x 2 columns]"
      ]
     },
     "execution_count": 473,
     "metadata": {},
     "output_type": "execute_result"
    }
   ],
   "source": [
    "tr_nm_rank = train.groupby('distributor').box_off_num.median().reset_index(name = 'num_rank').sort_values(by = 'num_rank')\n",
    "tr_nm_rank"
   ]
  },
  {
   "cell_type": "code",
   "execution_count": 474,
   "metadata": {},
   "outputs": [],
   "source": [
    "tr_nm_rank['num_rank'] = [i + 1 for i in range(tr_nm_rank.shape[0])]"
   ]
  },
  {
   "cell_type": "code",
   "execution_count": 475,
   "metadata": {},
   "outputs": [
    {
     "data": {
      "text/html": [
       "<div>\n",
       "<style scoped>\n",
       "    .dataframe tbody tr th:only-of-type {\n",
       "        vertical-align: middle;\n",
       "    }\n",
       "\n",
       "    .dataframe tbody tr th {\n",
       "        vertical-align: top;\n",
       "    }\n",
       "\n",
       "    .dataframe thead th {\n",
       "        text-align: right;\n",
       "    }\n",
       "</style>\n",
       "<table border=\"1\" class=\"dataframe\">\n",
       "  <thead>\n",
       "    <tr style=\"text-align: right;\">\n",
       "      <th></th>\n",
       "      <th>distributor</th>\n",
       "      <th>num_rank</th>\n",
       "    </tr>\n",
       "  </thead>\n",
       "  <tbody>\n",
       "    <tr>\n",
       "      <th>110</th>\n",
       "      <td>인피니티엔터테인먼트</td>\n",
       "      <td>1</td>\n",
       "    </tr>\n",
       "    <tr>\n",
       "      <th>15</th>\n",
       "      <td>고구마공작소</td>\n",
       "      <td>2</td>\n",
       "    </tr>\n",
       "    <tr>\n",
       "      <th>52</th>\n",
       "      <td>사람과사람들</td>\n",
       "      <td>3</td>\n",
       "    </tr>\n",
       "    <tr>\n",
       "      <th>97</th>\n",
       "      <td>위드시네마</td>\n",
       "      <td>4</td>\n",
       "    </tr>\n",
       "    <tr>\n",
       "      <th>19</th>\n",
       "      <td>나우콘텐츠</td>\n",
       "      <td>5</td>\n",
       "    </tr>\n",
       "    <tr>\n",
       "      <th>...</th>\n",
       "      <td>...</td>\n",
       "      <td>...</td>\n",
       "    </tr>\n",
       "    <tr>\n",
       "      <th>113</th>\n",
       "      <td>전망좋은영화사</td>\n",
       "      <td>143</td>\n",
       "    </tr>\n",
       "    <tr>\n",
       "      <th>105</th>\n",
       "      <td>이십세기폭스코리아</td>\n",
       "      <td>144</td>\n",
       "    </tr>\n",
       "    <tr>\n",
       "      <th>56</th>\n",
       "      <td>쇼박스</td>\n",
       "      <td>145</td>\n",
       "    </tr>\n",
       "    <tr>\n",
       "      <th>84</th>\n",
       "      <td>영구아트무비</td>\n",
       "      <td>146</td>\n",
       "    </tr>\n",
       "    <tr>\n",
       "      <th>75</th>\n",
       "      <td>아이필름코퍼레이션</td>\n",
       "      <td>147</td>\n",
       "    </tr>\n",
       "  </tbody>\n",
       "</table>\n",
       "<p>147 rows × 2 columns</p>\n",
       "</div>"
      ],
      "text/plain": [
       "    distributor  num_rank\n",
       "110  인피니티엔터테인먼트         1\n",
       "15       고구마공작소         2\n",
       "52       사람과사람들         3\n",
       "97        위드시네마         4\n",
       "19        나우콘텐츠         5\n",
       "..          ...       ...\n",
       "113     전망좋은영화사       143\n",
       "105   이십세기폭스코리아       144\n",
       "56          쇼박스       145\n",
       "84       영구아트무비       146\n",
       "75    아이필름코퍼레이션       147\n",
       "\n",
       "[147 rows x 2 columns]"
      ]
     },
     "execution_count": 475,
     "metadata": {},
     "output_type": "execute_result"
    }
   ],
   "source": [
    "tr_nm_rank"
   ]
  },
  {
   "cell_type": "markdown",
   "metadata": {},
   "source": [
    "#### 최종 데이터 병합"
   ]
  },
  {
   "cell_type": "code",
   "execution_count": 476,
   "metadata": {},
   "outputs": [],
   "source": [
    "train = pd.merge(train, tr_nm_rank, how = 'left')"
   ]
  },
  {
   "cell_type": "code",
   "execution_count": 477,
   "metadata": {},
   "outputs": [],
   "source": [
    "test = pd.merge(test, tr_nm_rank, how = 'left')"
   ]
  },
  {
   "cell_type": "code",
   "execution_count": 478,
   "metadata": {},
   "outputs": [],
   "source": [
    "test.fillna(0, inplace = True)"
   ]
  },
  {
   "cell_type": "code",
   "execution_count": 479,
   "metadata": {},
   "outputs": [],
   "source": [
    "from sklearn.ensemble import GradientBoostingRegressor, RandomForestRegressor\n",
    "from xgboost import XGBRegressor\n",
    "from lightgbm import LGBMRegressor\n",
    "from catboost import CatBoostRegressor\n",
    "from sklearn.metrics import mean_squared_error\n",
    "from sklearn.model_selection import KFold\n",
    "from ngboost import NGBRegressor"
   ]
  },
  {
   "cell_type": "markdown",
   "metadata": {},
   "source": [
    "#### 모델링 데이터 구성\n",
    "- 타겟 값인 관객수를 로그변환\n",
    "- 상영등급은 더미 변수\n",
    "- 출연 배우 수는 로그변환"
   ]
  },
  {
   "cell_type": "code",
   "execution_count": 480,
   "metadata": {},
   "outputs": [],
   "source": [
    "X = train[['num_rank', 'time', 'num_staff', 'num_actor', 'genre_rank', 'screening_rat']]\n",
    "y = np.log1p(train.box_off_num)"
   ]
  },
  {
   "cell_type": "code",
   "execution_count": 481,
   "metadata": {},
   "outputs": [],
   "source": [
    "X = pd.get_dummies(columns = ['screening_rat'], data = X)"
   ]
  },
  {
   "cell_type": "code",
   "execution_count": 482,
   "metadata": {},
   "outputs": [],
   "source": [
    "X['num_actor'] = np.log1p(X['num_actor'])"
   ]
  },
  {
   "cell_type": "code",
   "execution_count": 483,
   "metadata": {},
   "outputs": [],
   "source": [
    "target = test[['num_rank', 'time', 'num_staff', 'num_actor', 'genre_rank', 'screening_rat']]"
   ]
  },
  {
   "cell_type": "code",
   "execution_count": 484,
   "metadata": {},
   "outputs": [],
   "source": [
    "target = pd.get_dummies(columns = ['screening_rat'], data = target)"
   ]
  },
  {
   "cell_type": "code",
   "execution_count": 485,
   "metadata": {},
   "outputs": [],
   "source": [
    "target['num_actor'] = np.log1p(target['num_actor'])"
   ]
  },
  {
   "cell_type": "markdown",
   "metadata": {},
   "source": [
    "#### 10Fold로 교차검증"
   ]
  },
  {
   "cell_type": "code",
   "execution_count": 486,
   "metadata": {},
   "outputs": [],
   "source": [
    "kf = KFold(n_splits =  10, shuffle = True, random_state = 42)"
   ]
  },
  {
   "cell_type": "markdown",
   "metadata": {},
   "source": [
    "### 5가지 모델 사용\n",
    "#### 1) GradientBoostingRegressor"
   ]
  },
  {
   "cell_type": "code",
   "execution_count": 487,
   "metadata": {},
   "outputs": [],
   "source": [
    "gbm = GradientBoostingRegressor(random_state = 42)"
   ]
  },
  {
   "cell_type": "code",
   "execution_count": 488,
   "metadata": {},
   "outputs": [],
   "source": [
    "rmse_list = []\n",
    "gb_pred = np.zeros((test.shape[0]))\n",
    "for tr_idx, val_idx in kf.split(X, y) :\n",
    "    tr_x, tr_y = X.iloc[tr_idx], y.iloc[tr_idx]\n",
    "    val_x, val_y = X.iloc[val_idx], y.iloc[val_idx]\n",
    "    \n",
    "    gbm.fit(tr_x, tr_y)\n",
    "    \n",
    "    pred = np.expm1([0 if x < 0 else x for x in gbm.predict(val_x)])\n",
    "    sub_pred = np.expm1([0 if x < 0 else x for x in gbm.predict(target)])\n",
    "    rmse = np.sqrt(mean_squared_error(val_y, pred))\n",
    "    \n",
    "    rmse_list.append(rmse)\n",
    "    \n",
    "    gb_pred += (sub_pred / 10)"
   ]
  },
  {
   "cell_type": "code",
   "execution_count": 489,
   "metadata": {
    "scrolled": true
   },
   "outputs": [
    {
     "data": {
      "text/plain": [
       "1174378.9765191542"
      ]
     },
     "execution_count": 489,
     "metadata": {},
     "output_type": "execute_result"
    }
   ],
   "source": [
    "np.mean(rmse_list)"
   ]
  },
  {
   "cell_type": "markdown",
   "metadata": {},
   "source": [
    "#### 2) NGBRegressor"
   ]
  },
  {
   "cell_type": "code",
   "execution_count": 490,
   "metadata": {},
   "outputs": [],
   "source": [
    "ngb = NGBRegressor(random_state = 518)"
   ]
  },
  {
   "cell_type": "code",
   "execution_count": 491,
   "metadata": {},
   "outputs": [
    {
     "name": "stdout",
     "output_type": "stream",
     "text": [
      "[iter 0] loss=2.6200 val_loss=0.0000 scale=1.0000 norm=2.9523\n",
      "[iter 100] loss=1.9566 val_loss=0.0000 scale=2.0000 norm=2.7106\n",
      "[iter 200] loss=1.5812 val_loss=0.0000 scale=2.0000 norm=2.1869\n",
      "[iter 300] loss=1.4423 val_loss=0.0000 scale=2.0000 norm=2.0889\n",
      "[iter 400] loss=1.3728 val_loss=0.0000 scale=1.0000 norm=1.0177\n",
      "[iter 0] loss=1.4099 val_loss=0.0000 scale=1.0000 norm=1.0773\n",
      "[iter 100] loss=1.3247 val_loss=0.0000 scale=1.0000 norm=1.0080\n",
      "[iter 200] loss=1.2840 val_loss=0.0000 scale=1.0000 norm=0.9853\n",
      "[iter 300] loss=1.2439 val_loss=0.0000 scale=1.0000 norm=0.9645\n",
      "[iter 400] loss=1.2100 val_loss=0.0000 scale=1.0000 norm=0.9482\n",
      "[iter 0] loss=1.2095 val_loss=0.0000 scale=1.0000 norm=0.9543\n",
      "[iter 100] loss=1.1556 val_loss=0.0000 scale=0.2500 norm=0.2289\n",
      "[iter 200] loss=1.1468 val_loss=0.0000 scale=0.1250 norm=0.1137\n",
      "[iter 300] loss=1.1425 val_loss=0.0000 scale=0.0625 norm=0.0567\n",
      "[iter 400] loss=1.1406 val_loss=0.0000 scale=0.0010 norm=0.0009\n",
      "[iter 0] loss=1.1722 val_loss=0.0000 scale=1.0000 norm=0.9271\n",
      "[iter 100] loss=1.1458 val_loss=0.0000 scale=0.5000 norm=0.4543\n",
      "[iter 200] loss=1.1261 val_loss=0.0000 scale=0.5000 norm=0.4486\n",
      "[iter 300] loss=1.1061 val_loss=0.0000 scale=0.5000 norm=0.4425\n",
      "[iter 400] loss=1.0826 val_loss=0.0000 scale=0.5000 norm=0.4362\n",
      "[iter 0] loss=1.0954 val_loss=0.0000 scale=1.0000 norm=0.8916\n",
      "[iter 100] loss=1.0479 val_loss=0.0000 scale=1.0000 norm=0.8602\n",
      "[iter 200] loss=1.0241 val_loss=0.0000 scale=0.0039 norm=0.0033\n",
      "[iter 300] loss=1.0241 val_loss=0.0000 scale=0.0010 norm=0.0008\n",
      "[iter 400] loss=1.0241 val_loss=0.0000 scale=0.0005 norm=0.0004\n",
      "[iter 0] loss=1.0366 val_loss=0.0000 scale=0.5000 norm=0.4323\n",
      "[iter 100] loss=1.0084 val_loss=0.0000 scale=0.5000 norm=0.4224\n",
      "[iter 200] loss=0.9889 val_loss=0.0000 scale=0.1250 norm=0.1043\n",
      "[iter 300] loss=0.9793 val_loss=0.0000 scale=0.0625 norm=0.0518\n",
      "[iter 400] loss=0.9767 val_loss=0.0000 scale=0.0312 norm=0.0259\n",
      "[iter 0] loss=1.0106 val_loss=0.0000 scale=0.1250 norm=0.1062\n",
      "[iter 100] loss=1.0092 val_loss=0.0000 scale=0.0010 norm=0.0008\n",
      "[iter 200] loss=1.0092 val_loss=0.0000 scale=0.0010 norm=0.0008\n",
      "[iter 300] loss=1.0092 val_loss=0.0000 scale=0.0010 norm=0.0008\n",
      "[iter 400] loss=1.0092 val_loss=0.0000 scale=0.0010 norm=0.0008\n",
      "[iter 0] loss=0.9847 val_loss=0.0000 scale=1.0000 norm=0.8368\n",
      "[iter 100] loss=0.9502 val_loss=0.0000 scale=0.2500 norm=0.2033\n",
      "[iter 200] loss=0.9324 val_loss=0.0000 scale=0.5000 norm=0.4015\n",
      "[iter 300] loss=0.9071 val_loss=0.0000 scale=1.0000 norm=0.7929\n",
      "[iter 400] loss=0.8888 val_loss=0.0000 scale=0.5000 norm=0.3935\n",
      "[iter 0] loss=0.9498 val_loss=0.0000 scale=1.0000 norm=0.8383\n",
      "[iter 100] loss=0.8911 val_loss=0.0000 scale=0.2500 norm=0.1971\n",
      "[iter 200] loss=0.8785 val_loss=0.0000 scale=0.2500 norm=0.1954\n",
      "[iter 300] loss=0.8697 val_loss=0.0000 scale=1.0000 norm=0.7770\n",
      "[iter 400] loss=0.8693 val_loss=0.0000 scale=0.0010 norm=0.0008\n",
      "[iter 0] loss=0.8726 val_loss=0.0000 scale=1.0000 norm=0.7779\n",
      "[iter 100] loss=0.8481 val_loss=0.0000 scale=0.5000 norm=0.3830\n",
      "[iter 200] loss=0.8329 val_loss=0.0000 scale=0.5000 norm=0.3802\n",
      "[iter 300] loss=0.8199 val_loss=0.0000 scale=0.5000 norm=0.3773\n",
      "[iter 400] loss=0.8069 val_loss=0.0000 scale=0.2500 norm=0.1872\n"
     ]
    }
   ],
   "source": [
    "rmse_list = []\n",
    "ngb_pred = np.zeros((test.shape[0]))\n",
    "for tr_idx, val_idx in kf.split(X, y) :\n",
    "    tr_x, tr_y = X.iloc[tr_idx], y.iloc[tr_idx]\n",
    "    val_x, val_y = X.iloc[val_idx], y.iloc[val_idx]\n",
    "    \n",
    "    ngb.fit(tr_x, tr_y)\n",
    "    \n",
    "    pred = np.expm1([0 if x < 0 else x for x in ngb.predict(val_x)])\n",
    "    sub_pred = np.expm1([0 if x < 0 else x for x in ngb.predict(target)])\n",
    "    rmse = np.sqrt(mean_squared_error(val_y, pred))\n",
    "    \n",
    "    rmse_list.append(rmse)\n",
    "    \n",
    "    ngb_pred += (sub_pred / 10)"
   ]
  },
  {
   "cell_type": "code",
   "execution_count": 492,
   "metadata": {
    "scrolled": true
   },
   "outputs": [
    {
     "data": {
      "text/plain": [
       "1380253.1058252002"
      ]
     },
     "execution_count": 492,
     "metadata": {},
     "output_type": "execute_result"
    }
   ],
   "source": [
    "np.mean(rmse_list)"
   ]
  },
  {
   "cell_type": "markdown",
   "metadata": {},
   "source": [
    "#### 3) LGBMRegressor"
   ]
  },
  {
   "cell_type": "code",
   "execution_count": 493,
   "metadata": {},
   "outputs": [],
   "source": [
    "lgbm = LGBMRegressor(random_state = 518)"
   ]
  },
  {
   "cell_type": "code",
   "execution_count": 494,
   "metadata": {},
   "outputs": [],
   "source": [
    "rmse_list = []\n",
    "lgb_pred = np.zeros((test.shape[0]))\n",
    "for tr_idx, val_idx in kf.split(X, y) :\n",
    "    tr_x, tr_y = X.iloc[tr_idx], y.iloc[tr_idx]\n",
    "    val_x, val_y = X.iloc[val_idx], y.iloc[val_idx]\n",
    "    \n",
    "    lgbm.fit(tr_x, tr_y)\n",
    "    \n",
    "    pred = np.expm1([0 if x < 0 else x for x in lgbm.predict(val_x)])\n",
    "    sub_pred = np.expm1([0 if x < 0 else x for x in lgbm.predict(target)])\n",
    "    rmse = np.sqrt(mean_squared_error(val_y, pred))\n",
    "    \n",
    "    rmse_list.append(rmse)\n",
    "    \n",
    "    lgb_pred += (sub_pred / 10)"
   ]
  },
  {
   "cell_type": "code",
   "execution_count": 495,
   "metadata": {
    "scrolled": false
   },
   "outputs": [
    {
     "data": {
      "text/plain": [
       "1213815.0440528719"
      ]
     },
     "execution_count": 495,
     "metadata": {},
     "output_type": "execute_result"
    }
   ],
   "source": [
    "np.mean(rmse_list)"
   ]
  },
  {
   "cell_type": "markdown",
   "metadata": {},
   "source": [
    "#### 4) XGBRegressor"
   ]
  },
  {
   "cell_type": "code",
   "execution_count": 496,
   "metadata": {},
   "outputs": [],
   "source": [
    "xgb = XGBRegressor(random_state = 518)"
   ]
  },
  {
   "cell_type": "code",
   "execution_count": 497,
   "metadata": {},
   "outputs": [],
   "source": [
    "rmse_list = []\n",
    "xgb_pred = np.zeros((test.shape[0]))\n",
    "for tr_idx, val_idx in kf.split(X, y) :\n",
    "    tr_x, tr_y = X.iloc[tr_idx], y.iloc[tr_idx]\n",
    "    val_x, val_y = X.iloc[val_idx], y.iloc[val_idx]\n",
    "    \n",
    "    xgb.fit(tr_x, tr_y)\n",
    "    \n",
    "    pred = np.expm1([0 if x < 0 else x for x in xgb.predict(val_x)])\n",
    "    sub_pred = np.expm1([0 if x < 0 else x for x in xgb.predict(target)])\n",
    "    rmse = np.sqrt(mean_squared_error(val_y, pred))\n",
    "    \n",
    "    rmse_list.append(rmse)\n",
    "    \n",
    "    xgb_pred += (sub_pred / 10)"
   ]
  },
  {
   "cell_type": "code",
   "execution_count": 498,
   "metadata": {},
   "outputs": [
    {
     "data": {
      "text/plain": [
       "1437735.1546705803"
      ]
     },
     "execution_count": 498,
     "metadata": {},
     "output_type": "execute_result"
    }
   ],
   "source": [
    "np.mean(rmse_list)"
   ]
  },
  {
   "cell_type": "markdown",
   "metadata": {},
   "source": [
    "#### 5) CatBoostRegressor"
   ]
  },
  {
   "cell_type": "code",
   "execution_count": 499,
   "metadata": {},
   "outputs": [],
   "source": [
    "cat = CatBoostRegressor(random_state = 518, silent = True)"
   ]
  },
  {
   "cell_type": "code",
   "execution_count": 500,
   "metadata": {},
   "outputs": [],
   "source": [
    "rmse_list = []\n",
    "cat_pred = np.zeros((test.shape[0]))\n",
    "for tr_idx, val_idx in kf.split(X, y) :\n",
    "    tr_x, tr_y = X.iloc[tr_idx], y.iloc[tr_idx]\n",
    "    val_x, val_y = X.iloc[val_idx], y.iloc[val_idx]\n",
    "    \n",
    "    cat.fit(tr_x, tr_y)\n",
    "    \n",
    "    pred = np.expm1([0 if x < 0 else x for x in cat.predict(val_x)])\n",
    "    sub_pred = np.expm1([0 if x < 0 else x for x in cat.predict(target)])\n",
    "    rmse = np.sqrt(mean_squared_error(val_y, pred))\n",
    "    \n",
    "    rmse_list.append(rmse)\n",
    "    \n",
    "    cat_pred += (sub_pred / 10)"
   ]
  },
  {
   "cell_type": "code",
   "execution_count": 501,
   "metadata": {
    "scrolled": true
   },
   "outputs": [
    {
     "data": {
      "text/plain": [
       "1078083.3505434636"
      ]
     },
     "execution_count": 501,
     "metadata": {},
     "output_type": "execute_result"
    }
   ],
   "source": [
    "np.mean(rmse_list)"
   ]
  },
  {
   "cell_type": "markdown",
   "metadata": {},
   "source": [
    "#### 6) RandomForestRegressor"
   ]
  },
  {
   "cell_type": "code",
   "execution_count": 502,
   "metadata": {},
   "outputs": [],
   "source": [
    "rf = RandomForestRegressor(random_state = 518)"
   ]
  },
  {
   "cell_type": "code",
   "execution_count": 503,
   "metadata": {},
   "outputs": [],
   "source": [
    "rmse_list = []\n",
    "rf_pred = np.zeros((test.shape[0]))\n",
    "for tr_idx, val_idx in kf.split(X, y) :\n",
    "    tr_x, tr_y = X.iloc[tr_idx], y.iloc[tr_idx]\n",
    "    val_x, val_y = X.iloc[val_idx], y.iloc[val_idx]\n",
    "    \n",
    "    rf.fit(tr_x, tr_y)\n",
    "    \n",
    "    pred = np.expm1([0 if x < 0 else x for x in rf.predict(val_x)])\n",
    "    sub_pred = np.expm1([0 if x < 0 else x for x in rf.predict(target)])\n",
    "    rmse = np.sqrt(mean_squared_error(val_y, pred))\n",
    "    \n",
    "    rmse_list.append(rmse)\n",
    "    \n",
    "    rf_pred += (sub_pred / 10)"
   ]
  },
  {
   "cell_type": "code",
   "execution_count": 504,
   "metadata": {
    "scrolled": true
   },
   "outputs": [
    {
     "data": {
      "text/plain": [
       "872738.262092494"
      ]
     },
     "execution_count": 504,
     "metadata": {},
     "output_type": "execute_result"
    }
   ],
   "source": [
    "np.mean(rmse_list)"
   ]
  },
  {
   "cell_type": "markdown",
   "metadata": {},
   "source": [
    "***\n",
    "\n",
    "#### 최종 예측 결과 블렌딩"
   ]
  },
  {
   "cell_type": "code",
   "execution_count": 505,
   "metadata": {},
   "outputs": [],
   "source": [
    "submission['box_off_num'] = (xgb_pred + cat_pred + lgb_pred + rf_pred + gb_pred + ngb_pred) / 6"
   ]
  },
  {
   "cell_type": "code",
   "execution_count": 506,
   "metadata": {},
   "outputs": [
    {
     "data": {
      "text/html": [
       "<div>\n",
       "<style scoped>\n",
       "    .dataframe tbody tr th:only-of-type {\n",
       "        vertical-align: middle;\n",
       "    }\n",
       "\n",
       "    .dataframe tbody tr th {\n",
       "        vertical-align: top;\n",
       "    }\n",
       "\n",
       "    .dataframe thead th {\n",
       "        text-align: right;\n",
       "    }\n",
       "</style>\n",
       "<table border=\"1\" class=\"dataframe\">\n",
       "  <thead>\n",
       "    <tr style=\"text-align: right;\">\n",
       "      <th></th>\n",
       "      <th>title</th>\n",
       "      <th>box_off_num</th>\n",
       "    </tr>\n",
       "  </thead>\n",
       "  <tbody>\n",
       "    <tr>\n",
       "      <th>130</th>\n",
       "      <td>댄서김의 은밀한 교수법</td>\n",
       "      <td>1.210384e+01</td>\n",
       "    </tr>\n",
       "    <tr>\n",
       "      <th>39</th>\n",
       "      <td>REC 알이씨</td>\n",
       "      <td>1.474226e+01</td>\n",
       "    </tr>\n",
       "    <tr>\n",
       "      <th>139</th>\n",
       "      <td>화려한 외출</td>\n",
       "      <td>1.992019e+01</td>\n",
       "    </tr>\n",
       "    <tr>\n",
       "      <th>173</th>\n",
       "      <td>옹녀뎐</td>\n",
       "      <td>2.078792e+01</td>\n",
       "    </tr>\n",
       "    <tr>\n",
       "      <th>65</th>\n",
       "      <td>엄마는 창녀다</td>\n",
       "      <td>2.689142e+01</td>\n",
       "    </tr>\n",
       "    <tr>\n",
       "      <th>...</th>\n",
       "      <td>...</td>\n",
       "      <td>...</td>\n",
       "    </tr>\n",
       "    <tr>\n",
       "      <th>135</th>\n",
       "      <td>용의자</td>\n",
       "      <td>4.214530e+06</td>\n",
       "    </tr>\n",
       "    <tr>\n",
       "      <th>229</th>\n",
       "      <td>베테랑</td>\n",
       "      <td>4.396478e+06</td>\n",
       "    </tr>\n",
       "    <tr>\n",
       "      <th>142</th>\n",
       "      <td>박수건달</td>\n",
       "      <td>5.273073e+06</td>\n",
       "    </tr>\n",
       "    <tr>\n",
       "      <th>179</th>\n",
       "      <td>군도: 민란의 시대</td>\n",
       "      <td>6.442402e+06</td>\n",
       "    </tr>\n",
       "    <tr>\n",
       "      <th>178</th>\n",
       "      <td>명량</td>\n",
       "      <td>6.948190e+06</td>\n",
       "    </tr>\n",
       "  </tbody>\n",
       "</table>\n",
       "<p>243 rows × 2 columns</p>\n",
       "</div>"
      ],
      "text/plain": [
       "            title   box_off_num\n",
       "130  댄서김의 은밀한 교수법  1.210384e+01\n",
       "39        REC 알이씨  1.474226e+01\n",
       "139        화려한 외출  1.992019e+01\n",
       "173           옹녀뎐  2.078792e+01\n",
       "65        엄마는 창녀다  2.689142e+01\n",
       "..            ...           ...\n",
       "135           용의자  4.214530e+06\n",
       "229           베테랑  4.396478e+06\n",
       "142          박수건달  5.273073e+06\n",
       "179    군도: 민란의 시대  6.442402e+06\n",
       "178            명량  6.948190e+06\n",
       "\n",
       "[243 rows x 2 columns]"
      ]
     },
     "execution_count": 506,
     "metadata": {},
     "output_type": "execute_result"
    }
   ],
   "source": [
    "submission.sort_values(by = 'box_off_num')"
   ]
  },
  {
   "cell_type": "code",
   "execution_count": 507,
   "metadata": {},
   "outputs": [],
   "source": [
    "# submission.to_csv(\"0520.csv\", index = False)"
   ]
  }
 ],
 "metadata": {
  "kernelspec": {
   "display_name": "Python 3",
   "language": "python",
   "name": "python3"
  },
  "language_info": {
   "codemirror_mode": {
    "name": "ipython",
    "version": 3
   },
   "file_extension": ".py",
   "mimetype": "text/x-python",
   "name": "python",
   "nbconvert_exporter": "python",
   "pygments_lexer": "ipython3",
   "version": "3.8.5"
  },
  "toc": {
   "base_numbering": 1,
   "nav_menu": {},
   "number_sections": true,
   "sideBar": true,
   "skip_h1_title": false,
   "title_cell": "Table of Contents",
   "title_sidebar": "Contents",
   "toc_cell": false,
   "toc_position": {},
   "toc_section_display": true,
   "toc_window_display": false
  },
  "varInspector": {
   "cols": {
    "lenName": 16,
    "lenType": 16,
    "lenVar": 40
   },
   "kernels_config": {
    "python": {
     "delete_cmd_postfix": "",
     "delete_cmd_prefix": "del ",
     "library": "var_list.py",
     "varRefreshCmd": "print(var_dic_list())"
    },
    "r": {
     "delete_cmd_postfix": ") ",
     "delete_cmd_prefix": "rm(",
     "library": "var_list.r",
     "varRefreshCmd": "cat(var_dic_list()) "
    }
   },
   "types_to_exclude": [
    "module",
    "function",
    "builtin_function_or_method",
    "instance",
    "_Feature"
   ],
   "window_display": false
  }
 },
 "nbformat": 4,
 "nbformat_minor": 4
}
